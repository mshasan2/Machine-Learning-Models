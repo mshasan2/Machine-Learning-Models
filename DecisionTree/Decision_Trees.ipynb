{
  "nbformat": 4,
  "nbformat_minor": 0,
  "metadata": {
    "colab": {
      "name": "Decision_Trees.ipynb",
      "provenance": [],
      "collapsed_sections": []
    },
    "kernelspec": {
      "name": "python3",
      "display_name": "Python 3"
    },
    "language_info": {
      "name": "python"
    }
  },
  "cells": [
    {
      "cell_type": "markdown",
      "source": [
        "Decision Tree Classifier\n"
      ],
      "metadata": {
        "id": "ywDGRbrPJYkq"
      }
    },
    {
      "cell_type": "code",
      "source": [
        "!pip install category_encoders\n",
        "import category_encoders as ce\n",
        "import graphviz \n",
        "import numpy as np\n",
        "import pandas as pd\n",
        "import matplotlib.pyplot as plt\n",
        "from sklearn.model_selection import train_test_split\n",
        "from sklearn.tree import DecisionTreeClassifier\n",
        "from sklearn.metrics import accuracy_score\n",
        "from sklearn import tree\n",
        "from sklearn.metrics import classification_report\n"
      ],
      "metadata": {
        "colab": {
          "base_uri": "https://localhost:8080/"
        },
        "id": "ZQukCnIGJkWS",
        "outputId": "6a68d734-f0fa-4c20-d3aa-899b859ad959"
      },
      "execution_count": 63,
      "outputs": [
        {
          "output_type": "stream",
          "name": "stdout",
          "text": [
            "Requirement already satisfied: category_encoders in /usr/local/lib/python3.7/dist-packages (2.4.1)\n",
            "Requirement already satisfied: numpy>=1.14.0 in /usr/local/lib/python3.7/dist-packages (from category_encoders) (1.21.6)\n",
            "Requirement already satisfied: scikit-learn>=0.20.0 in /usr/local/lib/python3.7/dist-packages (from category_encoders) (1.0.2)\n",
            "Requirement already satisfied: scipy>=1.0.0 in /usr/local/lib/python3.7/dist-packages (from category_encoders) (1.4.1)\n",
            "Requirement already satisfied: patsy>=0.5.1 in /usr/local/lib/python3.7/dist-packages (from category_encoders) (0.5.2)\n",
            "Requirement already satisfied: statsmodels>=0.9.0 in /usr/local/lib/python3.7/dist-packages (from category_encoders) (0.10.2)\n",
            "Requirement already satisfied: pandas>=0.21.1 in /usr/local/lib/python3.7/dist-packages (from category_encoders) (1.3.5)\n",
            "Requirement already satisfied: pytz>=2017.3 in /usr/local/lib/python3.7/dist-packages (from pandas>=0.21.1->category_encoders) (2022.1)\n",
            "Requirement already satisfied: python-dateutil>=2.7.3 in /usr/local/lib/python3.7/dist-packages (from pandas>=0.21.1->category_encoders) (2.8.2)\n",
            "Requirement already satisfied: six in /usr/local/lib/python3.7/dist-packages (from patsy>=0.5.1->category_encoders) (1.15.0)\n",
            "Requirement already satisfied: threadpoolctl>=2.0.0 in /usr/local/lib/python3.7/dist-packages (from scikit-learn>=0.20.0->category_encoders) (3.1.0)\n",
            "Requirement already satisfied: joblib>=0.11 in /usr/local/lib/python3.7/dist-packages (from scikit-learn>=0.20.0->category_encoders) (1.1.0)\n"
          ]
        }
      ]
    },
    {
      "cell_type": "code",
      "source": [
        "column_names = ['buyingP', 'maintenanceP', 'Ndoors', 'Npersons', 'lug_cap', 'safety', 'carAccept']#['buying_price', 'maint_price', 'num_doors', 'person_cap', 'lug_cap', 'safety', 'car_acceptability']\n",
        "car_data = pd.read_csv('car_evaluation.csv', names = column_names, header = None)"
      ],
      "metadata": {
        "id": "dfun56G3JytF"
      },
      "execution_count": 64,
      "outputs": []
    },
    {
      "cell_type": "code",
      "source": [
        "car_data.head(-5)"
      ],
      "metadata": {
        "colab": {
          "base_uri": "https://localhost:8080/",
          "height": 468
        },
        "id": "y-mFPl2pJ8at",
        "outputId": "f1e518b4-98d4-41be-aea2-a2841d97dbec"
      },
      "execution_count": 65,
      "outputs": [
        {
          "output_type": "execute_result",
          "data": {
            "text/plain": [
              "     buyingP maintenanceP Ndoors Npersons lug_cap safety carAccept\n",
              "0      vhigh        vhigh      2        2   small    low     unacc\n",
              "1      vhigh        vhigh      2        2   small    med     unacc\n",
              "2      vhigh        vhigh      2        2   small   high     unacc\n",
              "3      vhigh        vhigh      2        2     med    low     unacc\n",
              "4      vhigh        vhigh      2        2     med    med     unacc\n",
              "...      ...          ...    ...      ...     ...    ...       ...\n",
              "1718     low          low  5more        4     big   high     vgood\n",
              "1719     low          low  5more     more   small    low     unacc\n",
              "1720     low          low  5more     more   small    med       acc\n",
              "1721     low          low  5more     more   small   high      good\n",
              "1722     low          low  5more     more     med    low     unacc\n",
              "\n",
              "[1723 rows x 7 columns]"
            ],
            "text/html": [
              "\n",
              "  <div id=\"df-44758a04-f4d9-43aa-9659-3b88bf6dc638\">\n",
              "    <div class=\"colab-df-container\">\n",
              "      <div>\n",
              "<style scoped>\n",
              "    .dataframe tbody tr th:only-of-type {\n",
              "        vertical-align: middle;\n",
              "    }\n",
              "\n",
              "    .dataframe tbody tr th {\n",
              "        vertical-align: top;\n",
              "    }\n",
              "\n",
              "    .dataframe thead th {\n",
              "        text-align: right;\n",
              "    }\n",
              "</style>\n",
              "<table border=\"1\" class=\"dataframe\">\n",
              "  <thead>\n",
              "    <tr style=\"text-align: right;\">\n",
              "      <th></th>\n",
              "      <th>buyingP</th>\n",
              "      <th>maintenanceP</th>\n",
              "      <th>Ndoors</th>\n",
              "      <th>Npersons</th>\n",
              "      <th>lug_cap</th>\n",
              "      <th>safety</th>\n",
              "      <th>carAccept</th>\n",
              "    </tr>\n",
              "  </thead>\n",
              "  <tbody>\n",
              "    <tr>\n",
              "      <th>0</th>\n",
              "      <td>vhigh</td>\n",
              "      <td>vhigh</td>\n",
              "      <td>2</td>\n",
              "      <td>2</td>\n",
              "      <td>small</td>\n",
              "      <td>low</td>\n",
              "      <td>unacc</td>\n",
              "    </tr>\n",
              "    <tr>\n",
              "      <th>1</th>\n",
              "      <td>vhigh</td>\n",
              "      <td>vhigh</td>\n",
              "      <td>2</td>\n",
              "      <td>2</td>\n",
              "      <td>small</td>\n",
              "      <td>med</td>\n",
              "      <td>unacc</td>\n",
              "    </tr>\n",
              "    <tr>\n",
              "      <th>2</th>\n",
              "      <td>vhigh</td>\n",
              "      <td>vhigh</td>\n",
              "      <td>2</td>\n",
              "      <td>2</td>\n",
              "      <td>small</td>\n",
              "      <td>high</td>\n",
              "      <td>unacc</td>\n",
              "    </tr>\n",
              "    <tr>\n",
              "      <th>3</th>\n",
              "      <td>vhigh</td>\n",
              "      <td>vhigh</td>\n",
              "      <td>2</td>\n",
              "      <td>2</td>\n",
              "      <td>med</td>\n",
              "      <td>low</td>\n",
              "      <td>unacc</td>\n",
              "    </tr>\n",
              "    <tr>\n",
              "      <th>4</th>\n",
              "      <td>vhigh</td>\n",
              "      <td>vhigh</td>\n",
              "      <td>2</td>\n",
              "      <td>2</td>\n",
              "      <td>med</td>\n",
              "      <td>med</td>\n",
              "      <td>unacc</td>\n",
              "    </tr>\n",
              "    <tr>\n",
              "      <th>...</th>\n",
              "      <td>...</td>\n",
              "      <td>...</td>\n",
              "      <td>...</td>\n",
              "      <td>...</td>\n",
              "      <td>...</td>\n",
              "      <td>...</td>\n",
              "      <td>...</td>\n",
              "    </tr>\n",
              "    <tr>\n",
              "      <th>1718</th>\n",
              "      <td>low</td>\n",
              "      <td>low</td>\n",
              "      <td>5more</td>\n",
              "      <td>4</td>\n",
              "      <td>big</td>\n",
              "      <td>high</td>\n",
              "      <td>vgood</td>\n",
              "    </tr>\n",
              "    <tr>\n",
              "      <th>1719</th>\n",
              "      <td>low</td>\n",
              "      <td>low</td>\n",
              "      <td>5more</td>\n",
              "      <td>more</td>\n",
              "      <td>small</td>\n",
              "      <td>low</td>\n",
              "      <td>unacc</td>\n",
              "    </tr>\n",
              "    <tr>\n",
              "      <th>1720</th>\n",
              "      <td>low</td>\n",
              "      <td>low</td>\n",
              "      <td>5more</td>\n",
              "      <td>more</td>\n",
              "      <td>small</td>\n",
              "      <td>med</td>\n",
              "      <td>acc</td>\n",
              "    </tr>\n",
              "    <tr>\n",
              "      <th>1721</th>\n",
              "      <td>low</td>\n",
              "      <td>low</td>\n",
              "      <td>5more</td>\n",
              "      <td>more</td>\n",
              "      <td>small</td>\n",
              "      <td>high</td>\n",
              "      <td>good</td>\n",
              "    </tr>\n",
              "    <tr>\n",
              "      <th>1722</th>\n",
              "      <td>low</td>\n",
              "      <td>low</td>\n",
              "      <td>5more</td>\n",
              "      <td>more</td>\n",
              "      <td>med</td>\n",
              "      <td>low</td>\n",
              "      <td>unacc</td>\n",
              "    </tr>\n",
              "  </tbody>\n",
              "</table>\n",
              "<p>1723 rows × 7 columns</p>\n",
              "</div>\n",
              "      <button class=\"colab-df-convert\" onclick=\"convertToInteractive('df-44758a04-f4d9-43aa-9659-3b88bf6dc638')\"\n",
              "              title=\"Convert this dataframe to an interactive table.\"\n",
              "              style=\"display:none;\">\n",
              "        \n",
              "  <svg xmlns=\"http://www.w3.org/2000/svg\" height=\"24px\"viewBox=\"0 0 24 24\"\n",
              "       width=\"24px\">\n",
              "    <path d=\"M0 0h24v24H0V0z\" fill=\"none\"/>\n",
              "    <path d=\"M18.56 5.44l.94 2.06.94-2.06 2.06-.94-2.06-.94-.94-2.06-.94 2.06-2.06.94zm-11 1L8.5 8.5l.94-2.06 2.06-.94-2.06-.94L8.5 2.5l-.94 2.06-2.06.94zm10 10l.94 2.06.94-2.06 2.06-.94-2.06-.94-.94-2.06-.94 2.06-2.06.94z\"/><path d=\"M17.41 7.96l-1.37-1.37c-.4-.4-.92-.59-1.43-.59-.52 0-1.04.2-1.43.59L10.3 9.45l-7.72 7.72c-.78.78-.78 2.05 0 2.83L4 21.41c.39.39.9.59 1.41.59.51 0 1.02-.2 1.41-.59l7.78-7.78 2.81-2.81c.8-.78.8-2.07 0-2.86zM5.41 20L4 18.59l7.72-7.72 1.47 1.35L5.41 20z\"/>\n",
              "  </svg>\n",
              "      </button>\n",
              "      \n",
              "  <style>\n",
              "    .colab-df-container {\n",
              "      display:flex;\n",
              "      flex-wrap:wrap;\n",
              "      gap: 12px;\n",
              "    }\n",
              "\n",
              "    .colab-df-convert {\n",
              "      background-color: #E8F0FE;\n",
              "      border: none;\n",
              "      border-radius: 50%;\n",
              "      cursor: pointer;\n",
              "      display: none;\n",
              "      fill: #1967D2;\n",
              "      height: 32px;\n",
              "      padding: 0 0 0 0;\n",
              "      width: 32px;\n",
              "    }\n",
              "\n",
              "    .colab-df-convert:hover {\n",
              "      background-color: #E2EBFA;\n",
              "      box-shadow: 0px 1px 2px rgba(60, 64, 67, 0.3), 0px 1px 3px 1px rgba(60, 64, 67, 0.15);\n",
              "      fill: #174EA6;\n",
              "    }\n",
              "\n",
              "    [theme=dark] .colab-df-convert {\n",
              "      background-color: #3B4455;\n",
              "      fill: #D2E3FC;\n",
              "    }\n",
              "\n",
              "    [theme=dark] .colab-df-convert:hover {\n",
              "      background-color: #434B5C;\n",
              "      box-shadow: 0px 1px 3px 1px rgba(0, 0, 0, 0.15);\n",
              "      filter: drop-shadow(0px 1px 2px rgba(0, 0, 0, 0.3));\n",
              "      fill: #FFFFFF;\n",
              "    }\n",
              "  </style>\n",
              "\n",
              "      <script>\n",
              "        const buttonEl =\n",
              "          document.querySelector('#df-44758a04-f4d9-43aa-9659-3b88bf6dc638 button.colab-df-convert');\n",
              "        buttonEl.style.display =\n",
              "          google.colab.kernel.accessAllowed ? 'block' : 'none';\n",
              "\n",
              "        async function convertToInteractive(key) {\n",
              "          const element = document.querySelector('#df-44758a04-f4d9-43aa-9659-3b88bf6dc638');\n",
              "          const dataTable =\n",
              "            await google.colab.kernel.invokeFunction('convertToInteractive',\n",
              "                                                     [key], {});\n",
              "          if (!dataTable) return;\n",
              "\n",
              "          const docLinkHtml = 'Like what you see? Visit the ' +\n",
              "            '<a target=\"_blank\" href=https://colab.research.google.com/notebooks/data_table.ipynb>data table notebook</a>'\n",
              "            + ' to learn more about interactive tables.';\n",
              "          element.innerHTML = '';\n",
              "          dataTable['output_type'] = 'display_data';\n",
              "          await google.colab.output.renderOutput(dataTable, element);\n",
              "          const docLink = document.createElement('div');\n",
              "          docLink.innerHTML = docLinkHtml;\n",
              "          element.appendChild(docLink);\n",
              "        }\n",
              "      </script>\n",
              "    </div>\n",
              "  </div>\n",
              "  "
            ]
          },
          "metadata": {},
          "execution_count": 65
        }
      ]
    },
    {
      "cell_type": "code",
      "source": [
        "car_data.info()"
      ],
      "metadata": {
        "colab": {
          "base_uri": "https://localhost:8080/"
        },
        "id": "M_m9Xz_cMGwq",
        "outputId": "cf2906c3-8abd-434d-d408-3e783bad3af3"
      },
      "execution_count": 66,
      "outputs": [
        {
          "output_type": "stream",
          "name": "stdout",
          "text": [
            "<class 'pandas.core.frame.DataFrame'>\n",
            "RangeIndex: 1728 entries, 0 to 1727\n",
            "Data columns (total 7 columns):\n",
            " #   Column        Non-Null Count  Dtype \n",
            "---  ------        --------------  ----- \n",
            " 0   buyingP       1728 non-null   object\n",
            " 1   maintenanceP  1728 non-null   object\n",
            " 2   Ndoors        1728 non-null   object\n",
            " 3   Npersons      1728 non-null   object\n",
            " 4   lug_cap       1728 non-null   object\n",
            " 5   safety        1728 non-null   object\n",
            " 6   carAccept     1728 non-null   object\n",
            "dtypes: object(7)\n",
            "memory usage: 94.6+ KB\n"
          ]
        }
      ]
    },
    {
      "cell_type": "code",
      "source": [
        "car_data.carAccept.unique()"
      ],
      "metadata": {
        "colab": {
          "base_uri": "https://localhost:8080/"
        },
        "id": "YxTSgSwjKAAT",
        "outputId": "988da6e2-0802-46d7-bbaa-1d715e6eff53"
      },
      "execution_count": 67,
      "outputs": [
        {
          "output_type": "execute_result",
          "data": {
            "text/plain": [
              "array(['unacc', 'acc', 'vgood', 'good'], dtype=object)"
            ]
          },
          "metadata": {},
          "execution_count": 67
        }
      ]
    },
    {
      "cell_type": "code",
      "source": [
        "car_data.carAccept.value_counts().plot(kind='bar')"
      ],
      "metadata": {
        "colab": {
          "base_uri": "https://localhost:8080/",
          "height": 304
        },
        "id": "OygCrG51KFX6",
        "outputId": "379f5ad3-ab68-4f60-9cdd-0ae940129a9f"
      },
      "execution_count": 68,
      "outputs": [
        {
          "output_type": "execute_result",
          "data": {
            "text/plain": [
              "<matplotlib.axes._subplots.AxesSubplot at 0x7f397ff438d0>"
            ]
          },
          "metadata": {},
          "execution_count": 68
        },
        {
          "output_type": "display_data",
          "data": {
            "text/plain": [
              "<Figure size 432x288 with 1 Axes>"
            ],
            "image/png": "[encoded data removed]"
          },
          "metadata": {
            "needs_background": "light"
          }
        }
      ]
    },
    {
      "cell_type": "code",
      "source": [
        "# isnull() method returns a boolean value(True - 1, False - 0) and summing those vals,\n",
        "# we can find if any value is null\n",
        "car_data.isnull().sum()"
      ],
      "metadata": {
        "colab": {
          "base_uri": "https://localhost:8080/"
        },
        "id": "wrwOwdBbMNtg",
        "outputId": "a24a67d7-3093-4d1c-8462-d08cf91979e9"
      },
      "execution_count": 69,
      "outputs": [
        {
          "output_type": "execute_result",
          "data": {
            "text/plain": [
              "buyingP         0\n",
              "maintenanceP    0\n",
              "Ndoors          0\n",
              "Npersons        0\n",
              "lug_cap         0\n",
              "safety          0\n",
              "carAccept       0\n",
              "dtype: int64"
            ]
          },
          "metadata": {},
          "execution_count": 69
        }
      ]
    },
    {
      "cell_type": "code",
      "source": [
        "# Creating Features and Targets\n",
        "#X = car_data.drop(['car_acceptability'], axis = 1) # Axis 0 - X, 1- Y\n",
        "#y = car_data['car_acceptability']\n",
        "X = car_data.drop(['carAccept'], axis = 1)\n",
        "y = car_data['carAccept']"
      ],
      "metadata": {
        "id": "CnY-DrRkMhjh"
      },
      "execution_count": 70,
      "outputs": []
    },
    {
      "cell_type": "code",
      "source": [
        "# Splitting the data into training and testing data\n",
        "X_train, X_test, y_train, y_test = train_test_split(X, y, test_size = 0.33, random_state = 42)"
      ],
      "metadata": {
        "id": "24zWfHMGNOgO"
      },
      "execution_count": 71,
      "outputs": []
    },
    {
      "cell_type": "code",
      "source": [
        "X_train.dtypes"
      ],
      "metadata": {
        "colab": {
          "base_uri": "https://localhost:8080/"
        },
        "id": "sW0Xr9SJODTx",
        "outputId": "089d1497-90ba-4bc1-a99e-5330fd759a24"
      },
      "execution_count": 72,
      "outputs": [
        {
          "output_type": "execute_result",
          "data": {
            "text/plain": [
              "buyingP         object\n",
              "maintenanceP    object\n",
              "Ndoors          object\n",
              "Npersons        object\n",
              "lug_cap         object\n",
              "safety          object\n",
              "dtype: object"
            ]
          },
          "metadata": {},
          "execution_count": 72
        }
      ]
    },
    {
      "cell_type": "markdown",
      "source": [
        "Category Encoders:\n",
        "A set of scikit-learn-style transformers for encoding categorical variables into numeric with different techniques."
      ],
      "metadata": {
        "id": "tGCELWOkO4GX"
      }
    },
    {
      "cell_type": "code",
      "source": [
        "cat_encoder = ce.OrdinalEncoder(cols=['buyingP', 'maintenanceP', 'Ndoors', 'Npersons', 'lug_cap', 'safety'])\n",
        "\n",
        "X_train = cat_encoder.fit_transform(X_train)\n",
        "\n",
        "X_test = cat_encoder.transform(X_test)"
      ],
      "metadata": {
        "id": "lEpCqigmQo0T"
      },
      "execution_count": 73,
      "outputs": []
    },
    {
      "cell_type": "code",
      "source": [
        "X_train"
      ],
      "metadata": {
        "colab": {
          "base_uri": "https://localhost:8080/",
          "height": 424
        },
        "id": "lRanotlURn_W",
        "outputId": "73e89ea4-f396-480d-d859-074ed50763f0"
      },
      "execution_count": 74,
      "outputs": [
        {
          "output_type": "execute_result",
          "data": {
            "text/plain": [
              "      buyingP  maintenanceP  Ndoors  Npersons  lug_cap  safety\n",
              "48          1             1       1         1        1       1\n",
              "468         2             1       1         2        2       1\n",
              "155         1             2       1         1        2       2\n",
              "1721        3             3       2         1        2       2\n",
              "1208        4             3       3         1        2       2\n",
              "...       ...           ...     ...       ...      ...     ...\n",
              "1130        4             4       1         1        1       2\n",
              "1294        4             3       2         1        3       3\n",
              "860         2             3       2         1        1       2\n",
              "1459        3             2       4         3        2       3\n",
              "1126        4             4       1         1        2       3\n",
              "\n",
              "[1157 rows x 6 columns]"
            ],
            "text/html": [
              "\n",
              "  <div id=\"df-8594a40f-5653-465e-9681-15b79f1b53be\">\n",
              "    <div class=\"colab-df-container\">\n",
              "      <div>\n",
              "<style scoped>\n",
              "    .dataframe tbody tr th:only-of-type {\n",
              "        vertical-align: middle;\n",
              "    }\n",
              "\n",
              "    .dataframe tbody tr th {\n",
              "        vertical-align: top;\n",
              "    }\n",
              "\n",
              "    .dataframe thead th {\n",
              "        text-align: right;\n",
              "    }\n",
              "</style>\n",
              "<table border=\"1\" class=\"dataframe\">\n",
              "  <thead>\n",
              "    <tr style=\"text-align: right;\">\n",
              "      <th></th>\n",
              "      <th>buyingP</th>\n",
              "      <th>maintenanceP</th>\n",
              "      <th>Ndoors</th>\n",
              "      <th>Npersons</th>\n",
              "      <th>lug_cap</th>\n",
              "      <th>safety</th>\n",
              "    </tr>\n",
              "  </thead>\n",
              "  <tbody>\n",
              "    <tr>\n",
              "      <th>48</th>\n",
              "      <td>1</td>\n",
              "      <td>1</td>\n",
              "      <td>1</td>\n",
              "      <td>1</td>\n",
              "      <td>1</td>\n",
              "      <td>1</td>\n",
              "    </tr>\n",
              "    <tr>\n",
              "      <th>468</th>\n",
              "      <td>2</td>\n",
              "      <td>1</td>\n",
              "      <td>1</td>\n",
              "      <td>2</td>\n",
              "      <td>2</td>\n",
              "      <td>1</td>\n",
              "    </tr>\n",
              "    <tr>\n",
              "      <th>155</th>\n",
              "      <td>1</td>\n",
              "      <td>2</td>\n",
              "      <td>1</td>\n",
              "      <td>1</td>\n",
              "      <td>2</td>\n",
              "      <td>2</td>\n",
              "    </tr>\n",
              "    <tr>\n",
              "      <th>1721</th>\n",
              "      <td>3</td>\n",
              "      <td>3</td>\n",
              "      <td>2</td>\n",
              "      <td>1</td>\n",
              "      <td>2</td>\n",
              "      <td>2</td>\n",
              "    </tr>\n",
              "    <tr>\n",
              "      <th>1208</th>\n",
              "      <td>4</td>\n",
              "      <td>3</td>\n",
              "      <td>3</td>\n",
              "      <td>1</td>\n",
              "      <td>2</td>\n",
              "      <td>2</td>\n",
              "    </tr>\n",
              "    <tr>\n",
              "      <th>...</th>\n",
              "      <td>...</td>\n",
              "      <td>...</td>\n",
              "      <td>...</td>\n",
              "      <td>...</td>\n",
              "      <td>...</td>\n",
              "      <td>...</td>\n",
              "    </tr>\n",
              "    <tr>\n",
              "      <th>1130</th>\n",
              "      <td>4</td>\n",
              "      <td>4</td>\n",
              "      <td>1</td>\n",
              "      <td>1</td>\n",
              "      <td>1</td>\n",
              "      <td>2</td>\n",
              "    </tr>\n",
              "    <tr>\n",
              "      <th>1294</th>\n",
              "      <td>4</td>\n",
              "      <td>3</td>\n",
              "      <td>2</td>\n",
              "      <td>1</td>\n",
              "      <td>3</td>\n",
              "      <td>3</td>\n",
              "    </tr>\n",
              "    <tr>\n",
              "      <th>860</th>\n",
              "      <td>2</td>\n",
              "      <td>3</td>\n",
              "      <td>2</td>\n",
              "      <td>1</td>\n",
              "      <td>1</td>\n",
              "      <td>2</td>\n",
              "    </tr>\n",
              "    <tr>\n",
              "      <th>1459</th>\n",
              "      <td>3</td>\n",
              "      <td>2</td>\n",
              "      <td>4</td>\n",
              "      <td>3</td>\n",
              "      <td>2</td>\n",
              "      <td>3</td>\n",
              "    </tr>\n",
              "    <tr>\n",
              "      <th>1126</th>\n",
              "      <td>4</td>\n",
              "      <td>4</td>\n",
              "      <td>1</td>\n",
              "      <td>1</td>\n",
              "      <td>2</td>\n",
              "      <td>3</td>\n",
              "    </tr>\n",
              "  </tbody>\n",
              "</table>\n",
              "<p>1157 rows × 6 columns</p>\n",
              "</div>\n",
              "      <button class=\"colab-df-convert\" onclick=\"convertToInteractive('df-8594a40f-5653-465e-9681-15b79f1b53be')\"\n",
              "              title=\"Convert this dataframe to an interactive table.\"\n",
              "              style=\"display:none;\">\n",
              "        \n",
              "  <svg xmlns=\"http://www.w3.org/2000/svg\" height=\"24px\"viewBox=\"0 0 24 24\"\n",
              "       width=\"24px\">\n",
              "    <path d=\"M0 0h24v24H0V0z\" fill=\"none\"/>\n",
              "    <path d=\"M18.56 5.44l.94 2.06.94-2.06 2.06-.94-2.06-.94-.94-2.06-.94 2.06-2.06.94zm-11 1L8.5 8.5l.94-2.06 2.06-.94-2.06-.94L8.5 2.5l-.94 2.06-2.06.94zm10 10l.94 2.06.94-2.06 2.06-.94-2.06-.94-.94-2.06-.94 2.06-2.06.94z\"/><path d=\"M17.41 7.96l-1.37-1.37c-.4-.4-.92-.59-1.43-.59-.52 0-1.04.2-1.43.59L10.3 9.45l-7.72 7.72c-.78.78-.78 2.05 0 2.83L4 21.41c.39.39.9.59 1.41.59.51 0 1.02-.2 1.41-.59l7.78-7.78 2.81-2.81c.8-.78.8-2.07 0-2.86zM5.41 20L4 18.59l7.72-7.72 1.47 1.35L5.41 20z\"/>\n",
              "  </svg>\n",
              "      </button>\n",
              "      \n",
              "  <style>\n",
              "    .colab-df-container {\n",
              "      display:flex;\n",
              "      flex-wrap:wrap;\n",
              "      gap: 12px;\n",
              "    }\n",
              "\n",
              "    .colab-df-convert {\n",
              "      background-color: #E8F0FE;\n",
              "      border: none;\n",
              "      border-radius: 50%;\n",
              "      cursor: pointer;\n",
              "      display: none;\n",
              "      fill: #1967D2;\n",
              "      height: 32px;\n",
              "      padding: 0 0 0 0;\n",
              "      width: 32px;\n",
              "    }\n",
              "\n",
              "    .colab-df-convert:hover {\n",
              "      background-color: #E2EBFA;\n",
              "      box-shadow: 0px 1px 2px rgba(60, 64, 67, 0.3), 0px 1px 3px 1px rgba(60, 64, 67, 0.15);\n",
              "      fill: #174EA6;\n",
              "    }\n",
              "\n",
              "    [theme=dark] .colab-df-convert {\n",
              "      background-color: #3B4455;\n",
              "      fill: #D2E3FC;\n",
              "    }\n",
              "\n",
              "    [theme=dark] .colab-df-convert:hover {\n",
              "      background-color: #434B5C;\n",
              "      box-shadow: 0px 1px 3px 1px rgba(0, 0, 0, 0.15);\n",
              "      filter: drop-shadow(0px 1px 2px rgba(0, 0, 0, 0.3));\n",
              "      fill: #FFFFFF;\n",
              "    }\n",
              "  </style>\n",
              "\n",
              "      <script>\n",
              "        const buttonEl =\n",
              "          document.querySelector('#df-8594a40f-5653-465e-9681-15b79f1b53be button.colab-df-convert');\n",
              "        buttonEl.style.display =\n",
              "          google.colab.kernel.accessAllowed ? 'block' : 'none';\n",
              "\n",
              "        async function convertToInteractive(key) {\n",
              "          const element = document.querySelector('#df-8594a40f-5653-465e-9681-15b79f1b53be');\n",
              "          const dataTable =\n",
              "            await google.colab.kernel.invokeFunction('convertToInteractive',\n",
              "                                                     [key], {});\n",
              "          if (!dataTable) return;\n",
              "\n",
              "          const docLinkHtml = 'Like what you see? Visit the ' +\n",
              "            '<a target=\"_blank\" href=https://colab.research.google.com/notebooks/data_table.ipynb>data table notebook</a>'\n",
              "            + ' to learn more about interactive tables.';\n",
              "          element.innerHTML = '';\n",
              "          dataTable['output_type'] = 'display_data';\n",
              "          await google.colab.output.renderOutput(dataTable, element);\n",
              "          const docLink = document.createElement('div');\n",
              "          docLink.innerHTML = docLinkHtml;\n",
              "          element.appendChild(docLink);\n",
              "        }\n",
              "      </script>\n",
              "    </div>\n",
              "  </div>\n",
              "  "
            ]
          },
          "metadata": {},
          "execution_count": 74
        }
      ]
    },
    {
      "cell_type": "code",
      "source": [
        "X_test.buyingP.unique()"
      ],
      "metadata": {
        "colab": {
          "base_uri": "https://localhost:8080/"
        },
        "id": "FkO-u6s2Rptd",
        "outputId": "7b5fa1fb-d837-453f-fb19-c71f12953e06"
      },
      "execution_count": 75,
      "outputs": [
        {
          "output_type": "execute_result",
          "data": {
            "text/plain": [
              "array([2, 4, 3, 1])"
            ]
          },
          "metadata": {},
          "execution_count": 75
        }
      ]
    },
    {
      "cell_type": "code",
      "source": [
        "dt_class_gini = DecisionTreeClassifier(criterion = 'gini', max_depth = 6, random_state=0)\n",
        "dt_class_gini.fit(X_train, y_train)"
      ],
      "metadata": {
        "colab": {
          "base_uri": "https://localhost:8080/"
        },
        "id": "F4MKHfquE56U",
        "outputId": "f48e1177-07ae-48a7-bdb0-8ae7a25ccbe5"
      },
      "execution_count": 76,
      "outputs": [
        {
          "output_type": "execute_result",
          "data": {
            "text/plain": [
              "DecisionTreeClassifier(max_depth=6, random_state=0)"
            ]
          },
          "metadata": {},
          "execution_count": 76
        }
      ]
    },
    {
      "cell_type": "code",
      "source": [
        "y_pred_gini = dt_class_gini.predict(X_test)\n",
        "acc_score_gini = accuracy_score(y_test, y_pred_gini)\n",
        "print(\"Test Accuracy Score with Gini index: \", acc_score_gini)"
      ],
      "metadata": {
        "colab": {
          "base_uri": "https://localhost:8080/"
        },
        "id": "FBApb_20Fj9b",
        "outputId": "30f27bda-9aee-4c1f-c8ed-d40f6bd8c08a"
      },
      "execution_count": 77,
      "outputs": [
        {
          "output_type": "stream",
          "name": "stdout",
          "text": [
            "Test Accuracy Score with Gini index:  0.8966725043782837\n"
          ]
        }
      ]
    },
    {
      "cell_type": "code",
      "source": [
        "y_train_pred_gini = dt_class_gini.predict(X_train)\n",
        "acc_score_train_gini = accuracy_score(y_train, y_train_pred_gini)\n",
        "print(\"Train Accuracy Score with Gini index: \", acc_score_train_gini)"
      ],
      "metadata": {
        "colab": {
          "base_uri": "https://localhost:8080/"
        },
        "id": "aJgtlD7iG2pB",
        "outputId": "8fc490e6-3a3c-48e6-f50b-d3b241002dac"
      },
      "execution_count": 78,
      "outputs": [
        {
          "output_type": "stream",
          "name": "stdout",
          "text": [
            "Train Accuracy Score with Gini index:  0.9178910976663786\n"
          ]
        }
      ]
    },
    {
      "cell_type": "code",
      "source": [
        "dt_class_entropy = DecisionTreeClassifier(criterion = 'entropy', max_depth = 6, random_state=0)\n",
        "dt_class_entropy.fit(X_train, y_train)"
      ],
      "metadata": {
        "colab": {
          "base_uri": "https://localhost:8080/"
        },
        "id": "pZMrPm6oGOmp",
        "outputId": "1f50fff3-9801-4096-e836-5ef049aac305"
      },
      "execution_count": 79,
      "outputs": [
        {
          "output_type": "execute_result",
          "data": {
            "text/plain": [
              "DecisionTreeClassifier(criterion='entropy', max_depth=6, random_state=0)"
            ]
          },
          "metadata": {},
          "execution_count": 79
        }
      ]
    },
    {
      "cell_type": "code",
      "source": [
        "y_pred_entropy = dt_class_entropy.predict(X_test)\n",
        "acc_score_entropy = accuracy_score(y_test, y_pred_entropy)\n",
        "print(\"Test Accuracy Score with Entropy index: \", acc_score_entropy)"
      ],
      "metadata": {
        "colab": {
          "base_uri": "https://localhost:8080/"
        },
        "id": "uIHNqJBqH5XN",
        "outputId": "5670a3e2-8829-4b3f-fa56-eb1b7b1187a5"
      },
      "execution_count": 80,
      "outputs": [
        {
          "output_type": "stream",
          "name": "stdout",
          "text": [
            "Test Accuracy Score with Entropy index:  0.8949211908931699\n"
          ]
        }
      ]
    },
    {
      "cell_type": "code",
      "source": [
        "y_train_pred_entropy = dt_class_entropy.predict(X_train)\n",
        "acc_score_train_entropy = accuracy_score(y_train, y_train_pred_entropy)\n",
        "print(\"Train Accuracy Score with Entropy index: \", acc_score_train_entropy)"
      ],
      "metadata": {
        "colab": {
          "base_uri": "https://localhost:8080/"
        },
        "id": "IXcMK9e2IBaz",
        "outputId": "47cb8bc8-472f-4d70-a751-f356b7e8ff23"
      },
      "execution_count": 81,
      "outputs": [
        {
          "output_type": "stream",
          "name": "stdout",
          "text": [
            "Train Accuracy Score with Entropy index:  0.9066551426101987\n"
          ]
        }
      ]
    },
    {
      "cell_type": "code",
      "source": [
        "graph = graphviz.Source(tree.export_graphviz(dt_class_entropy, out_file = None, feature_names = X_train.columns, class_names = y_train, filled = True, rounded = True, special_characters = True))"
      ],
      "metadata": {
        "id": "e_IwBEGvIM-i"
      },
      "execution_count": 82,
      "outputs": []
    },
    {
      "cell_type": "code",
      "source": [
        "graph"
      ],
      "metadata": {
        "colab": {
          "base_uri": "https://localhost:8080/",
          "height": 1000
        },
        "id": "qGLFG1WZJLjz",
        "outputId": "50e250d1-969c-4a51-c861-cb2c9879dfd7"
      },
      "execution_count": 83,
      "outputs": [
        {
          "output_type": "execute_result",
          "data": {
            "text/plain": [
              "<graphviz.files.Source at 0x7f397fe6c410>"
            ],
            "image/svg+xml": "<?xml version=\"1.0\" encoding=\"UTF-8\" standalone=\"no\"?>\n<!DOCTYPE svg PUBLIC \"-//W3C//DTD SVG 1.1//EN\"\n \"http://www.w3.org/Graphics/SVG/1.1/DTD/svg11.dtd\">\n<!-- Generated by graphviz version 2.40.1 (20161225.0304)\n -->\n<!-- Title: Tree Pages: 1 -->\n<svg width=\"1922pt\" height=\"790pt\"\n viewBox=\"0.00 0.00 1922.00 790.00\" xmlns=\"http://www.w3.org/2000/svg\" xmlns:xlink=\"http://www.w3.org/1999/xlink\">\n<g id=\"graph0\" class=\"graph\" transform=\"scale(1 1) rotate(0) translate(4 786)\">\n<title>Tree</title>\n<polygon fill=\"#ffffff\" stroke=\"transparent\" points=\"-4,4 -4,-786 1918,-786 1918,4 -4,4\"/>\n<!-- 0 -->\n<g id=\"node1\" class=\"node\">\n<title>0</title>\n<path fill=\"#85c2ef\" stroke=\"#000000\" d=\"M715.5,-782C715.5,-782 559.5,-782 559.5,-782 553.5,-782 547.5,-776 547.5,-770 547.5,-770 547.5,-711 547.5,-711 547.5,-705 553.5,-699 559.5,-699 559.5,-699 715.5,-699 715.5,-699 721.5,-699 727.5,-705 727.5,-711 727.5,-711 727.5,-770 727.5,-770 727.5,-776 721.5,-782 715.5,-782\"/>\n<text text-anchor=\"start\" x=\"600\" y=\"-766.8\" font-family=\"Helvetica,sans-Serif\" font-size=\"14.00\" fill=\"#000000\">safety ≤ 1.5</text>\n<text text-anchor=\"start\" x=\"595\" y=\"-751.8\" font-family=\"Helvetica,sans-Serif\" font-size=\"14.00\" fill=\"#000000\">entropy = 1.2</text>\n<text text-anchor=\"start\" x=\"585.5\" y=\"-736.8\" font-family=\"Helvetica,sans-Serif\" font-size=\"14.00\" fill=\"#000000\">samples = 1157</text>\n<text text-anchor=\"start\" x=\"555.5\" y=\"-721.8\" font-family=\"Helvetica,sans-Serif\" font-size=\"14.00\" fill=\"#000000\">value = [255, 49, 813, 40]</text>\n<text text-anchor=\"start\" x=\"592.5\" y=\"-706.8\" font-family=\"Helvetica,sans-Serif\" font-size=\"14.00\" fill=\"#000000\">class = unacc</text>\n</g>\n<!-- 1 -->\n<g id=\"node2\" class=\"node\">\n<title>1</title>\n<path fill=\"#399de5\" stroke=\"#000000\" d=\"M608,-655.5C608,-655.5 485,-655.5 485,-655.5 479,-655.5 473,-649.5 473,-643.5 473,-643.5 473,-599.5 473,-599.5 473,-593.5 479,-587.5 485,-587.5 485,-587.5 608,-587.5 608,-587.5 614,-587.5 620,-593.5 620,-599.5 620,-599.5 620,-643.5 620,-643.5 620,-649.5 614,-655.5 608,-655.5\"/>\n<text text-anchor=\"start\" x=\"504\" y=\"-640.3\" font-family=\"Helvetica,sans-Serif\" font-size=\"14.00\" fill=\"#000000\">entropy = 0.0</text>\n<text text-anchor=\"start\" x=\"498.5\" y=\"-625.3\" font-family=\"Helvetica,sans-Serif\" font-size=\"14.00\" fill=\"#000000\">samples = 386</text>\n<text text-anchor=\"start\" x=\"481\" y=\"-610.3\" font-family=\"Helvetica,sans-Serif\" font-size=\"14.00\" fill=\"#000000\">value = [0, 0, 386, 0]</text>\n<text text-anchor=\"start\" x=\"501.5\" y=\"-595.3\" font-family=\"Helvetica,sans-Serif\" font-size=\"14.00\" fill=\"#000000\">class = unacc</text>\n</g>\n<!-- 0&#45;&gt;1 -->\n<g id=\"edge1\" class=\"edge\">\n<title>0&#45;&gt;1</title>\n<path fill=\"none\" stroke=\"#000000\" d=\"M605.6726,-698.8796C597.0116,-687.5536 587.6219,-675.2748 578.928,-663.9058\"/>\n<polygon fill=\"#000000\" stroke=\"#000000\" points=\"581.5956,-661.6324 572.7408,-655.8149 576.0351,-665.8846 581.5956,-661.6324\"/>\n<text text-anchor=\"middle\" x=\"569.4367\" y=\"-676.8956\" font-family=\"Helvetica,sans-Serif\" font-size=\"14.00\" fill=\"#000000\">True</text>\n</g>\n<!-- 2 -->\n<g id=\"node3\" class=\"node\">\n<title>2</title>\n<path fill=\"#bddef6\" stroke=\"#000000\" d=\"M806.5,-663C806.5,-663 650.5,-663 650.5,-663 644.5,-663 638.5,-657 638.5,-651 638.5,-651 638.5,-592 638.5,-592 638.5,-586 644.5,-580 650.5,-580 650.5,-580 806.5,-580 806.5,-580 812.5,-580 818.5,-586 818.5,-592 818.5,-592 818.5,-651 818.5,-651 818.5,-657 812.5,-663 806.5,-663\"/>\n<text text-anchor=\"start\" x=\"679\" y=\"-647.8\" font-family=\"Helvetica,sans-Serif\" font-size=\"14.00\" fill=\"#000000\">Npersons ≤ 2.5</text>\n<text text-anchor=\"start\" x=\"677.5\" y=\"-632.8\" font-family=\"Helvetica,sans-Serif\" font-size=\"14.00\" fill=\"#000000\">entropy = 1.474</text>\n<text text-anchor=\"start\" x=\"680.5\" y=\"-617.8\" font-family=\"Helvetica,sans-Serif\" font-size=\"14.00\" fill=\"#000000\">samples = 771</text>\n<text text-anchor=\"start\" x=\"646.5\" y=\"-602.8\" font-family=\"Helvetica,sans-Serif\" font-size=\"14.00\" fill=\"#000000\">value = [255, 49, 427, 40]</text>\n<text text-anchor=\"start\" x=\"683.5\" y=\"-587.8\" font-family=\"Helvetica,sans-Serif\" font-size=\"14.00\" fill=\"#000000\">class = unacc</text>\n</g>\n<!-- 0&#45;&gt;2 -->\n<g id=\"edge2\" class=\"edge\">\n<title>0&#45;&gt;2</title>\n<path fill=\"none\" stroke=\"#000000\" d=\"M669.3274,-698.8796C676.1457,-689.9633 683.4156,-680.4565 690.4421,-671.268\"/>\n<polygon fill=\"#000000\" stroke=\"#000000\" points=\"693.2425,-673.3678 696.5368,-663.2981 687.682,-669.1156 693.2425,-673.3678\"/>\n<text text-anchor=\"middle\" x=\"699.8409\" y=\"-684.3788\" font-family=\"Helvetica,sans-Serif\" font-size=\"14.00\" fill=\"#000000\">False</text>\n</g>\n<!-- 3 -->\n<g id=\"node4\" class=\"node\">\n<title>3</title>\n<path fill=\"#f9e4d4\" stroke=\"#000000\" d=\"M715.5,-544C715.5,-544 559.5,-544 559.5,-544 553.5,-544 547.5,-538 547.5,-532 547.5,-532 547.5,-473 547.5,-473 547.5,-467 553.5,-461 559.5,-461 559.5,-461 715.5,-461 715.5,-461 721.5,-461 727.5,-467 727.5,-473 727.5,-473 727.5,-532 727.5,-532 727.5,-538 721.5,-544 715.5,-544\"/>\n<text text-anchor=\"start\" x=\"593\" y=\"-528.8\" font-family=\"Helvetica,sans-Serif\" font-size=\"14.00\" fill=\"#000000\">buyingP ≤ 2.5</text>\n<text text-anchor=\"start\" x=\"586.5\" y=\"-513.8\" font-family=\"Helvetica,sans-Serif\" font-size=\"14.00\" fill=\"#000000\">entropy = 1.638</text>\n<text text-anchor=\"start\" x=\"589.5\" y=\"-498.8\" font-family=\"Helvetica,sans-Serif\" font-size=\"14.00\" fill=\"#000000\">samples = 525</text>\n<text text-anchor=\"start\" x=\"555.5\" y=\"-483.8\" font-family=\"Helvetica,sans-Serif\" font-size=\"14.00\" fill=\"#000000\">value = [255, 49, 181, 40]</text>\n<text text-anchor=\"start\" x=\"592.5\" y=\"-468.8\" font-family=\"Helvetica,sans-Serif\" font-size=\"14.00\" fill=\"#000000\">class = unacc</text>\n</g>\n<!-- 2&#45;&gt;3 -->\n<g id=\"edge3\" class=\"edge\">\n<title>2&#45;&gt;3</title>\n<path fill=\"none\" stroke=\"#000000\" d=\"M696.6726,-579.8796C689.8543,-570.9633 682.5844,-561.4565 675.5579,-552.268\"/>\n<polygon fill=\"#000000\" stroke=\"#000000\" points=\"678.318,-550.1156 669.4632,-544.2981 672.7575,-554.3678 678.318,-550.1156\"/>\n</g>\n<!-- 28 -->\n<g id=\"node29\" class=\"node\">\n<title>28</title>\n<path fill=\"#399de5\" stroke=\"#000000\" d=\"M881,-536.5C881,-536.5 758,-536.5 758,-536.5 752,-536.5 746,-530.5 746,-524.5 746,-524.5 746,-480.5 746,-480.5 746,-474.5 752,-468.5 758,-468.5 758,-468.5 881,-468.5 881,-468.5 887,-468.5 893,-474.5 893,-480.5 893,-480.5 893,-524.5 893,-524.5 893,-530.5 887,-536.5 881,-536.5\"/>\n<text text-anchor=\"start\" x=\"777\" y=\"-521.3\" font-family=\"Helvetica,sans-Serif\" font-size=\"14.00\" fill=\"#000000\">entropy = 0.0</text>\n<text text-anchor=\"start\" x=\"771.5\" y=\"-506.3\" font-family=\"Helvetica,sans-Serif\" font-size=\"14.00\" fill=\"#000000\">samples = 246</text>\n<text text-anchor=\"start\" x=\"754\" y=\"-491.3\" font-family=\"Helvetica,sans-Serif\" font-size=\"14.00\" fill=\"#000000\">value = [0, 0, 246, 0]</text>\n<text text-anchor=\"start\" x=\"774.5\" y=\"-476.3\" font-family=\"Helvetica,sans-Serif\" font-size=\"14.00\" fill=\"#000000\">class = unacc</text>\n</g>\n<!-- 2&#45;&gt;28 -->\n<g id=\"edge28\" class=\"edge\">\n<title>2&#45;&gt;28</title>\n<path fill=\"none\" stroke=\"#000000\" d=\"M760.3274,-579.8796C768.9884,-568.5536 778.3781,-556.2748 787.072,-544.9058\"/>\n<polygon fill=\"#000000\" stroke=\"#000000\" points=\"789.9649,-546.8846 793.2592,-536.8149 784.4044,-542.6324 789.9649,-546.8846\"/>\n</g>\n<!-- 4 -->\n<g id=\"node5\" class=\"node\">\n<title>4</title>\n<path fill=\"#e0f0fb\" stroke=\"#000000\" d=\"M548.5,-425C548.5,-425 408.5,-425 408.5,-425 402.5,-425 396.5,-419 396.5,-413 396.5,-413 396.5,-354 396.5,-354 396.5,-348 402.5,-342 408.5,-342 408.5,-342 548.5,-342 548.5,-342 554.5,-342 560.5,-348 560.5,-354 560.5,-354 560.5,-413 560.5,-413 560.5,-419 554.5,-425 548.5,-425\"/>\n<text text-anchor=\"start\" x=\"413.5\" y=\"-409.8\" font-family=\"Helvetica,sans-Serif\" font-size=\"14.00\" fill=\"#000000\">maintenanceP ≤ 1.5</text>\n<text text-anchor=\"start\" x=\"427.5\" y=\"-394.8\" font-family=\"Helvetica,sans-Serif\" font-size=\"14.00\" fill=\"#000000\">entropy = 0.995</text>\n<text text-anchor=\"start\" x=\"430.5\" y=\"-379.8\" font-family=\"Helvetica,sans-Serif\" font-size=\"14.00\" fill=\"#000000\">samples = 271</text>\n<text text-anchor=\"start\" x=\"404.5\" y=\"-364.8\" font-family=\"Helvetica,sans-Serif\" font-size=\"14.00\" fill=\"#000000\">value = [124, 0, 147, 0]</text>\n<text text-anchor=\"start\" x=\"433.5\" y=\"-349.8\" font-family=\"Helvetica,sans-Serif\" font-size=\"14.00\" fill=\"#000000\">class = unacc</text>\n</g>\n<!-- 3&#45;&gt;4 -->\n<g id=\"edge4\" class=\"edge\">\n<title>3&#45;&gt;4</title>\n<path fill=\"none\" stroke=\"#000000\" d=\"M581.8895,-460.8796C569.0597,-451.2774 555.3148,-440.9903 542.1714,-431.1534\"/>\n<polygon fill=\"#000000\" stroke=\"#000000\" points=\"544.1823,-428.2868 534.0791,-425.0969 539.9879,-433.891 544.1823,-428.2868\"/>\n</g>\n<!-- 13 -->\n<g id=\"node14\" class=\"node\">\n<title>13</title>\n<path fill=\"#f5cdb0\" stroke=\"#000000\" d=\"M1030.5,-425C1030.5,-425 882.5,-425 882.5,-425 876.5,-425 870.5,-419 870.5,-413 870.5,-413 870.5,-354 870.5,-354 870.5,-348 876.5,-342 882.5,-342 882.5,-342 1030.5,-342 1030.5,-342 1036.5,-342 1042.5,-348 1042.5,-354 1042.5,-354 1042.5,-413 1042.5,-413 1042.5,-419 1036.5,-425 1030.5,-425\"/>\n<text text-anchor=\"start\" x=\"891.5\" y=\"-409.8\" font-family=\"Helvetica,sans-Serif\" font-size=\"14.00\" fill=\"#000000\">maintenanceP ≤ 2.5</text>\n<text text-anchor=\"start\" x=\"905.5\" y=\"-394.8\" font-family=\"Helvetica,sans-Serif\" font-size=\"14.00\" fill=\"#000000\">entropy = 1.759</text>\n<text text-anchor=\"start\" x=\"908.5\" y=\"-379.8\" font-family=\"Helvetica,sans-Serif\" font-size=\"14.00\" fill=\"#000000\">samples = 254</text>\n<text text-anchor=\"start\" x=\"878.5\" y=\"-364.8\" font-family=\"Helvetica,sans-Serif\" font-size=\"14.00\" fill=\"#000000\">value = [131, 49, 34, 40]</text>\n<text text-anchor=\"start\" x=\"911.5\" y=\"-349.8\" font-family=\"Helvetica,sans-Serif\" font-size=\"14.00\" fill=\"#000000\">class = unacc</text>\n</g>\n<!-- 3&#45;&gt;13 -->\n<g id=\"edge13\" class=\"edge\">\n<title>3&#45;&gt;13</title>\n<path fill=\"none\" stroke=\"#000000\" d=\"M727.5182,-464.5036C730.5435,-463.3102 733.5437,-462.1392 736.5,-461 776.9079,-445.4285 821.9457,-429.343 860.6944,-415.8899\"/>\n<polygon fill=\"#000000\" stroke=\"#000000\" points=\"862.0992,-419.1075 870.4037,-412.5283 859.8089,-412.4927 862.0992,-419.1075\"/>\n</g>\n<!-- 5 -->\n<g id=\"node6\" class=\"node\">\n<title>5</title>\n<path fill=\"#399de5\" stroke=\"#000000\" d=\"M371,-298.5C371,-298.5 256,-298.5 256,-298.5 250,-298.5 244,-292.5 244,-286.5 244,-286.5 244,-242.5 244,-242.5 244,-236.5 250,-230.5 256,-230.5 256,-230.5 371,-230.5 371,-230.5 377,-230.5 383,-236.5 383,-242.5 383,-242.5 383,-286.5 383,-286.5 383,-292.5 377,-298.5 371,-298.5\"/>\n<text text-anchor=\"start\" x=\"271\" y=\"-283.3\" font-family=\"Helvetica,sans-Serif\" font-size=\"14.00\" fill=\"#000000\">entropy = 0.0</text>\n<text text-anchor=\"start\" x=\"269.5\" y=\"-268.3\" font-family=\"Helvetica,sans-Serif\" font-size=\"14.00\" fill=\"#000000\">samples = 68</text>\n<text text-anchor=\"start\" x=\"252\" y=\"-253.3\" font-family=\"Helvetica,sans-Serif\" font-size=\"14.00\" fill=\"#000000\">value = [0, 0, 68, 0]</text>\n<text text-anchor=\"start\" x=\"268.5\" y=\"-238.3\" font-family=\"Helvetica,sans-Serif\" font-size=\"14.00\" fill=\"#000000\">class = unacc</text>\n</g>\n<!-- 4&#45;&gt;5 -->\n<g id=\"edge5\" class=\"edge\">\n<title>4&#45;&gt;5</title>\n<path fill=\"none\" stroke=\"#000000\" d=\"M420.791,-341.8796C404.093,-329.8368 385.9013,-316.7167 369.3207,-304.7586\"/>\n<polygon fill=\"#000000\" stroke=\"#000000\" points=\"370.9715,-301.6339 360.8135,-298.623 366.8768,-307.3113 370.9715,-301.6339\"/>\n</g>\n<!-- 6 -->\n<g id=\"node7\" class=\"node\">\n<title>6</title>\n<path fill=\"#f6d1b7\" stroke=\"#000000\" d=\"M544,-306C544,-306 413,-306 413,-306 407,-306 401,-300 401,-294 401,-294 401,-235 401,-235 401,-229 407,-223 413,-223 413,-223 544,-223 544,-223 550,-223 556,-229 556,-235 556,-235 556,-294 556,-294 556,-300 550,-306 544,-306\"/>\n<text text-anchor=\"start\" x=\"441\" y=\"-290.8\" font-family=\"Helvetica,sans-Serif\" font-size=\"14.00\" fill=\"#000000\">safety ≤ 2.5</text>\n<text text-anchor=\"start\" x=\"427.5\" y=\"-275.8\" font-family=\"Helvetica,sans-Serif\" font-size=\"14.00\" fill=\"#000000\">entropy = 0.964</text>\n<text text-anchor=\"start\" x=\"430.5\" y=\"-260.8\" font-family=\"Helvetica,sans-Serif\" font-size=\"14.00\" fill=\"#000000\">samples = 203</text>\n<text text-anchor=\"start\" x=\"409\" y=\"-245.8\" font-family=\"Helvetica,sans-Serif\" font-size=\"14.00\" fill=\"#000000\">value = [124, 0, 79, 0]</text>\n<text text-anchor=\"start\" x=\"433.5\" y=\"-230.8\" font-family=\"Helvetica,sans-Serif\" font-size=\"14.00\" fill=\"#000000\">class = unacc</text>\n</g>\n<!-- 4&#45;&gt;6 -->\n<g id=\"edge6\" class=\"edge\">\n<title>4&#45;&gt;6</title>\n<path fill=\"none\" stroke=\"#000000\" d=\"M478.5,-341.8796C478.5,-333.6838 478.5,-324.9891 478.5,-316.5013\"/>\n<polygon fill=\"#000000\" stroke=\"#000000\" points=\"482.0001,-316.298 478.5,-306.2981 475.0001,-316.2981 482.0001,-316.298\"/>\n</g>\n<!-- 7 -->\n<g id=\"node8\" class=\"node\">\n<title>7</title>\n<path fill=\"#eba069\" stroke=\"#000000\" d=\"M296,-187C296,-187 173,-187 173,-187 167,-187 161,-181 161,-175 161,-175 161,-116 161,-116 161,-110 167,-104 173,-104 173,-104 296,-104 296,-104 302,-104 308,-110 308,-116 308,-116 308,-175 308,-175 308,-181 302,-187 296,-187\"/>\n<text text-anchor=\"start\" x=\"169.5\" y=\"-171.8\" font-family=\"Helvetica,sans-Serif\" font-size=\"14.00\" fill=\"#000000\">maintenanceP ≤ 2.5</text>\n<text text-anchor=\"start\" x=\"183.5\" y=\"-156.8\" font-family=\"Helvetica,sans-Serif\" font-size=\"14.00\" fill=\"#000000\">entropy = 0.714</text>\n<text text-anchor=\"start\" x=\"186.5\" y=\"-141.8\" font-family=\"Helvetica,sans-Serif\" font-size=\"14.00\" fill=\"#000000\">samples = 102</text>\n<text text-anchor=\"start\" x=\"169\" y=\"-126.8\" font-family=\"Helvetica,sans-Serif\" font-size=\"14.00\" fill=\"#000000\">value = [82, 0, 20, 0]</text>\n<text text-anchor=\"start\" x=\"189.5\" y=\"-111.8\" font-family=\"Helvetica,sans-Serif\" font-size=\"14.00\" fill=\"#000000\">class = unacc</text>\n</g>\n<!-- 6&#45;&gt;7 -->\n<g id=\"edge7\" class=\"edge\">\n<title>6&#45;&gt;7</title>\n<path fill=\"none\" stroke=\"#000000\" d=\"M400.9616,-226.6841C374.2574,-213.6604 344.2607,-199.0308 317.1634,-185.8153\"/>\n<polygon fill=\"#000000\" stroke=\"#000000\" points=\"318.6162,-182.6299 308.0939,-181.3921 315.5477,-188.9215 318.6162,-182.6299\"/>\n</g>\n<!-- 10 -->\n<g id=\"node11\" class=\"node\">\n<title>10</title>\n<path fill=\"#c6e3f8\" stroke=\"#000000\" d=\"M540,-187C540,-187 417,-187 417,-187 411,-187 405,-181 405,-175 405,-175 405,-116 405,-116 405,-110 411,-104 417,-104 417,-104 540,-104 540,-104 546,-104 552,-110 552,-116 552,-116 552,-175 552,-175 552,-181 546,-187 540,-187\"/>\n<text text-anchor=\"start\" x=\"434.5\" y=\"-171.8\" font-family=\"Helvetica,sans-Serif\" font-size=\"14.00\" fill=\"#000000\">lug_cap ≤ 2.5</text>\n<text text-anchor=\"start\" x=\"427.5\" y=\"-156.8\" font-family=\"Helvetica,sans-Serif\" font-size=\"14.00\" fill=\"#000000\">entropy = 0.979</text>\n<text text-anchor=\"start\" x=\"430.5\" y=\"-141.8\" font-family=\"Helvetica,sans-Serif\" font-size=\"14.00\" fill=\"#000000\">samples = 101</text>\n<text text-anchor=\"start\" x=\"413\" y=\"-126.8\" font-family=\"Helvetica,sans-Serif\" font-size=\"14.00\" fill=\"#000000\">value = [42, 0, 59, 0]</text>\n<text text-anchor=\"start\" x=\"433.5\" y=\"-111.8\" font-family=\"Helvetica,sans-Serif\" font-size=\"14.00\" fill=\"#000000\">class = unacc</text>\n</g>\n<!-- 6&#45;&gt;10 -->\n<g id=\"edge10\" class=\"edge\">\n<title>6&#45;&gt;10</title>\n<path fill=\"none\" stroke=\"#000000\" d=\"M478.5,-222.8796C478.5,-214.6838 478.5,-205.9891 478.5,-197.5013\"/>\n<polygon fill=\"#000000\" stroke=\"#000000\" points=\"482.0001,-197.298 478.5,-187.2981 475.0001,-197.2981 482.0001,-197.298\"/>\n</g>\n<!-- 8 -->\n<g id=\"node9\" class=\"node\">\n<title>8</title>\n<path fill=\"#d3e9f9\" stroke=\"#000000\" d=\"M135,-68C135,-68 12,-68 12,-68 6,-68 0,-62 0,-56 0,-56 0,-12 0,-12 0,-6 6,0 12,0 12,0 135,0 135,0 141,0 147,-6 147,-12 147,-12 147,-56 147,-56 147,-62 141,-68 135,-68\"/>\n<text text-anchor=\"start\" x=\"22.5\" y=\"-52.8\" font-family=\"Helvetica,sans-Serif\" font-size=\"14.00\" fill=\"#000000\">entropy = 0.989</text>\n<text text-anchor=\"start\" x=\"29.5\" y=\"-37.8\" font-family=\"Helvetica,sans-Serif\" font-size=\"14.00\" fill=\"#000000\">samples = 32</text>\n<text text-anchor=\"start\" x=\"8\" y=\"-22.8\" font-family=\"Helvetica,sans-Serif\" font-size=\"14.00\" fill=\"#000000\">value = [14, 0, 18, 0]</text>\n<text text-anchor=\"start\" x=\"28.5\" y=\"-7.8\" font-family=\"Helvetica,sans-Serif\" font-size=\"14.00\" fill=\"#000000\">class = unacc</text>\n</g>\n<!-- 7&#45;&gt;8 -->\n<g id=\"edge8\" class=\"edge\">\n<title>7&#45;&gt;8</title>\n<path fill=\"none\" stroke=\"#000000\" d=\"M174.5495,-103.9815C160.4084,-94.1881 145.3606,-83.7668 131.3159,-74.0402\"/>\n<polygon fill=\"#000000\" stroke=\"#000000\" points=\"132.9315,-70.9017 122.7178,-68.0856 128.9461,-76.6565 132.9315,-70.9017\"/>\n</g>\n<!-- 9 -->\n<g id=\"node10\" class=\"node\">\n<title>9</title>\n<path fill=\"#e6853f\" stroke=\"#000000\" d=\"M292,-68C292,-68 177,-68 177,-68 171,-68 165,-62 165,-56 165,-56 165,-12 165,-12 165,-6 171,0 177,0 177,0 292,0 292,0 298,0 304,-6 304,-12 304,-12 304,-56 304,-56 304,-62 298,-68 292,-68\"/>\n<text text-anchor=\"start\" x=\"183.5\" y=\"-52.8\" font-family=\"Helvetica,sans-Serif\" font-size=\"14.00\" fill=\"#000000\">entropy = 0.187</text>\n<text text-anchor=\"start\" x=\"190.5\" y=\"-37.8\" font-family=\"Helvetica,sans-Serif\" font-size=\"14.00\" fill=\"#000000\">samples = 70</text>\n<text text-anchor=\"start\" x=\"173\" y=\"-22.8\" font-family=\"Helvetica,sans-Serif\" font-size=\"14.00\" fill=\"#000000\">value = [68, 0, 2, 0]</text>\n<text text-anchor=\"start\" x=\"189.5\" y=\"-7.8\" font-family=\"Helvetica,sans-Serif\" font-size=\"14.00\" fill=\"#000000\">class = unacc</text>\n</g>\n<!-- 7&#45;&gt;9 -->\n<g id=\"edge9\" class=\"edge\">\n<title>7&#45;&gt;9</title>\n<path fill=\"none\" stroke=\"#000000\" d=\"M234.5,-103.9815C234.5,-95.618 234.5,-86.7965 234.5,-78.3409\"/>\n<polygon fill=\"#000000\" stroke=\"#000000\" points=\"238.0001,-78.2636 234.5,-68.2637 231.0001,-78.2637 238.0001,-78.2636\"/>\n</g>\n<!-- 11 -->\n<g id=\"node12\" class=\"node\">\n<title>11</title>\n<path fill=\"#75bbed\" stroke=\"#000000\" d=\"M457,-68C457,-68 334,-68 334,-68 328,-68 322,-62 322,-56 322,-56 322,-12 322,-12 322,-6 328,0 334,0 334,0 457,0 457,0 463,0 469,-6 469,-12 469,-12 469,-56 469,-56 469,-62 463,-68 457,-68\"/>\n<text text-anchor=\"start\" x=\"344.5\" y=\"-52.8\" font-family=\"Helvetica,sans-Serif\" font-size=\"14.00\" fill=\"#000000\">entropy = 0.781</text>\n<text text-anchor=\"start\" x=\"351.5\" y=\"-37.8\" font-family=\"Helvetica,sans-Serif\" font-size=\"14.00\" fill=\"#000000\">samples = 69</text>\n<text text-anchor=\"start\" x=\"330\" y=\"-22.8\" font-family=\"Helvetica,sans-Serif\" font-size=\"14.00\" fill=\"#000000\">value = [16, 0, 53, 0]</text>\n<text text-anchor=\"start\" x=\"350.5\" y=\"-7.8\" font-family=\"Helvetica,sans-Serif\" font-size=\"14.00\" fill=\"#000000\">class = unacc</text>\n</g>\n<!-- 10&#45;&gt;11 -->\n<g id=\"edge11\" class=\"edge\">\n<title>10&#45;&gt;11</title>\n<path fill=\"none\" stroke=\"#000000\" d=\"M447.5939,-103.9815C440.8892,-94.9747 433.7892,-85.4367 427.0597,-76.3965\"/>\n<polygon fill=\"#000000\" stroke=\"#000000\" points=\"429.7845,-74.1953 421.0057,-68.2637 424.1694,-78.3752 429.7845,-74.1953\"/>\n</g>\n<!-- 12 -->\n<g id=\"node13\" class=\"node\">\n<title>12</title>\n<path fill=\"#eb9e67\" stroke=\"#000000\" d=\"M614,-68C614,-68 499,-68 499,-68 493,-68 487,-62 487,-56 487,-56 487,-12 487,-12 487,-6 493,0 499,0 499,0 614,0 614,0 620,0 626,-6 626,-12 626,-12 626,-56 626,-56 626,-62 620,-68 614,-68\"/>\n<text text-anchor=\"start\" x=\"505.5\" y=\"-52.8\" font-family=\"Helvetica,sans-Serif\" font-size=\"14.00\" fill=\"#000000\">entropy = 0.696</text>\n<text text-anchor=\"start\" x=\"512.5\" y=\"-37.8\" font-family=\"Helvetica,sans-Serif\" font-size=\"14.00\" fill=\"#000000\">samples = 32</text>\n<text text-anchor=\"start\" x=\"495\" y=\"-22.8\" font-family=\"Helvetica,sans-Serif\" font-size=\"14.00\" fill=\"#000000\">value = [26, 0, 6, 0]</text>\n<text text-anchor=\"start\" x=\"511.5\" y=\"-7.8\" font-family=\"Helvetica,sans-Serif\" font-size=\"14.00\" fill=\"#000000\">class = unacc</text>\n</g>\n<!-- 10&#45;&gt;12 -->\n<g id=\"edge12\" class=\"edge\">\n<title>10&#45;&gt;12</title>\n<path fill=\"none\" stroke=\"#000000\" d=\"M507.5443,-103.9815C513.7808,-95.0666 520.3813,-85.6313 526.6478,-76.6734\"/>\n<polygon fill=\"#000000\" stroke=\"#000000\" points=\"529.6665,-78.464 532.5308,-68.2637 523.9307,-74.4515 529.6665,-78.464\"/>\n</g>\n<!-- 14 -->\n<g id=\"node15\" class=\"node\">\n<title>14</title>\n<path fill=\"#eeaf81\" stroke=\"#000000\" d=\"M1022,-306C1022,-306 891,-306 891,-306 885,-306 879,-300 879,-294 879,-294 879,-235 879,-235 879,-229 885,-223 891,-223 891,-223 1022,-223 1022,-223 1028,-223 1034,-229 1034,-235 1034,-235 1034,-294 1034,-294 1034,-300 1028,-306 1022,-306\"/>\n<text text-anchor=\"start\" x=\"919\" y=\"-290.8\" font-family=\"Helvetica,sans-Serif\" font-size=\"14.00\" fill=\"#000000\">safety ≤ 2.5</text>\n<text text-anchor=\"start\" x=\"905.5\" y=\"-275.8\" font-family=\"Helvetica,sans-Serif\" font-size=\"14.00\" fill=\"#000000\">entropy = 1.106</text>\n<text text-anchor=\"start\" x=\"908.5\" y=\"-260.8\" font-family=\"Helvetica,sans-Serif\" font-size=\"14.00\" fill=\"#000000\">samples = 129</text>\n<text text-anchor=\"start\" x=\"887\" y=\"-245.8\" font-family=\"Helvetica,sans-Serif\" font-size=\"14.00\" fill=\"#000000\">value = [92, 0, 27, 10]</text>\n<text text-anchor=\"start\" x=\"911.5\" y=\"-230.8\" font-family=\"Helvetica,sans-Serif\" font-size=\"14.00\" fill=\"#000000\">class = unacc</text>\n</g>\n<!-- 13&#45;&gt;14 -->\n<g id=\"edge14\" class=\"edge\">\n<title>13&#45;&gt;14</title>\n<path fill=\"none\" stroke=\"#000000\" d=\"M956.5,-341.8796C956.5,-333.6838 956.5,-324.9891 956.5,-316.5013\"/>\n<polygon fill=\"#000000\" stroke=\"#000000\" points=\"960.0001,-316.298 956.5,-306.2981 953.0001,-316.2981 960.0001,-316.298\"/>\n</g>\n<!-- 21 -->\n<g id=\"node22\" class=\"node\">\n<title>21</title>\n<path fill=\"#eafce8\" stroke=\"#000000\" d=\"M1505,-306C1505,-306 1374,-306 1374,-306 1368,-306 1362,-300 1362,-294 1362,-294 1362,-235 1362,-235 1362,-229 1368,-223 1374,-223 1374,-223 1505,-223 1505,-223 1511,-223 1517,-229 1517,-235 1517,-235 1517,-294 1517,-294 1517,-300 1511,-306 1505,-306\"/>\n<text text-anchor=\"start\" x=\"1402\" y=\"-290.8\" font-family=\"Helvetica,sans-Serif\" font-size=\"14.00\" fill=\"#000000\">safety ≤ 2.5</text>\n<text text-anchor=\"start\" x=\"1388.5\" y=\"-275.8\" font-family=\"Helvetica,sans-Serif\" font-size=\"14.00\" fill=\"#000000\">entropy = 1.781</text>\n<text text-anchor=\"start\" x=\"1391.5\" y=\"-260.8\" font-family=\"Helvetica,sans-Serif\" font-size=\"14.00\" fill=\"#000000\">samples = 125</text>\n<text text-anchor=\"start\" x=\"1370\" y=\"-245.8\" font-family=\"Helvetica,sans-Serif\" font-size=\"14.00\" fill=\"#000000\">value = [39, 49, 7, 30]</text>\n<text text-anchor=\"start\" x=\"1394.5\" y=\"-230.8\" font-family=\"Helvetica,sans-Serif\" font-size=\"14.00\" fill=\"#000000\">class = unacc</text>\n</g>\n<!-- 13&#45;&gt;21 -->\n<g id=\"edge21\" class=\"edge\">\n<title>13&#45;&gt;21</title>\n<path fill=\"none\" stroke=\"#000000\" d=\"M1042.5723,-362.2938C1129.7963,-340.8038 1264.0528,-307.7261 1351.8417,-286.097\"/>\n<polygon fill=\"#000000\" stroke=\"#000000\" points=\"1352.907,-289.4393 1361.7793,-283.6486 1351.2324,-282.6425 1352.907,-289.4393\"/>\n</g>\n<!-- 15 -->\n<g id=\"node16\" class=\"node\">\n<title>15</title>\n<path fill=\"#eb9e66\" stroke=\"#000000\" d=\"M936,-187C936,-187 813,-187 813,-187 807,-187 801,-181 801,-175 801,-175 801,-116 801,-116 801,-110 807,-104 813,-104 813,-104 936,-104 936,-104 942,-104 948,-110 948,-116 948,-116 948,-175 948,-175 948,-181 942,-187 936,-187\"/>\n<text text-anchor=\"start\" x=\"809.5\" y=\"-171.8\" font-family=\"Helvetica,sans-Serif\" font-size=\"14.00\" fill=\"#000000\">maintenanceP ≤ 1.5</text>\n<text text-anchor=\"start\" x=\"823.5\" y=\"-156.8\" font-family=\"Helvetica,sans-Serif\" font-size=\"14.00\" fill=\"#000000\">entropy = 0.861</text>\n<text text-anchor=\"start\" x=\"830.5\" y=\"-141.8\" font-family=\"Helvetica,sans-Serif\" font-size=\"14.00\" fill=\"#000000\">samples = 67</text>\n<text text-anchor=\"start\" x=\"809\" y=\"-126.8\" font-family=\"Helvetica,sans-Serif\" font-size=\"14.00\" fill=\"#000000\">value = [54, 0, 3, 10]</text>\n<text text-anchor=\"start\" x=\"829.5\" y=\"-111.8\" font-family=\"Helvetica,sans-Serif\" font-size=\"14.00\" fill=\"#000000\">class = unacc</text>\n</g>\n<!-- 14&#45;&gt;15 -->\n<g id=\"edge15\" class=\"edge\">\n<title>14&#45;&gt;15</title>\n<path fill=\"none\" stroke=\"#000000\" d=\"M927.8204,-222.8796C921.7385,-214.0534 915.2578,-204.6485 908.9859,-195.5466\"/>\n<polygon fill=\"#000000\" stroke=\"#000000\" points=\"911.8582,-193.5465 903.302,-187.2981 906.0941,-197.5184 911.8582,-193.5465\"/>\n</g>\n<!-- 18 -->\n<g id=\"node19\" class=\"node\">\n<title>18</title>\n<path fill=\"#f5d1b6\" stroke=\"#000000\" d=\"M1101,-187C1101,-187 978,-187 978,-187 972,-187 966,-181 966,-175 966,-175 966,-116 966,-116 966,-110 972,-104 978,-104 978,-104 1101,-104 1101,-104 1107,-104 1113,-110 1113,-116 1113,-116 1113,-175 1113,-175 1113,-181 1107,-187 1101,-187\"/>\n<text text-anchor=\"start\" x=\"995.5\" y=\"-171.8\" font-family=\"Helvetica,sans-Serif\" font-size=\"14.00\" fill=\"#000000\">lug_cap ≤ 2.5</text>\n<text text-anchor=\"start\" x=\"988.5\" y=\"-156.8\" font-family=\"Helvetica,sans-Serif\" font-size=\"14.00\" fill=\"#000000\">entropy = 0.963</text>\n<text text-anchor=\"start\" x=\"995.5\" y=\"-141.8\" font-family=\"Helvetica,sans-Serif\" font-size=\"14.00\" fill=\"#000000\">samples = 62</text>\n<text text-anchor=\"start\" x=\"974\" y=\"-126.8\" font-family=\"Helvetica,sans-Serif\" font-size=\"14.00\" fill=\"#000000\">value = [38, 0, 24, 0]</text>\n<text text-anchor=\"start\" x=\"994.5\" y=\"-111.8\" font-family=\"Helvetica,sans-Serif\" font-size=\"14.00\" fill=\"#000000\">class = unacc</text>\n</g>\n<!-- 14&#45;&gt;18 -->\n<g id=\"edge18\" class=\"edge\">\n<title>14&#45;&gt;18</title>\n<path fill=\"none\" stroke=\"#000000\" d=\"M985.5294,-222.8796C991.6855,-214.0534 998.2451,-204.6485 1004.5936,-195.5466\"/>\n<polygon fill=\"#000000\" stroke=\"#000000\" points=\"1007.4967,-197.5024 1010.3467,-187.2981 1001.7552,-193.4978 1007.4967,-197.5024\"/>\n</g>\n<!-- 16 -->\n<g id=\"node17\" class=\"node\">\n<title>16</title>\n<path fill=\"#e78946\" stroke=\"#000000\" d=\"M771,-68C771,-68 656,-68 656,-68 650,-68 644,-62 644,-56 644,-56 644,-12 644,-12 644,-6 650,0 656,0 656,0 771,0 771,0 777,0 783,-6 783,-12 783,-12 783,-56 783,-56 783,-62 777,-68 771,-68\"/>\n<text text-anchor=\"start\" x=\"666.5\" y=\"-52.8\" font-family=\"Helvetica,sans-Serif\" font-size=\"14.00\" fill=\"#000000\">entropy = 0.33</text>\n<text text-anchor=\"start\" x=\"669.5\" y=\"-37.8\" font-family=\"Helvetica,sans-Serif\" font-size=\"14.00\" fill=\"#000000\">samples = 33</text>\n<text text-anchor=\"start\" x=\"652\" y=\"-22.8\" font-family=\"Helvetica,sans-Serif\" font-size=\"14.00\" fill=\"#000000\">value = [31, 0, 2, 0]</text>\n<text text-anchor=\"start\" x=\"668.5\" y=\"-7.8\" font-family=\"Helvetica,sans-Serif\" font-size=\"14.00\" fill=\"#000000\">class = unacc</text>\n</g>\n<!-- 15&#45;&gt;16 -->\n<g id=\"edge16\" class=\"edge\">\n<title>15&#45;&gt;16</title>\n<path fill=\"none\" stroke=\"#000000\" d=\"M814.5495,-103.9815C800.4084,-94.1881 785.3606,-83.7668 771.3159,-74.0402\"/>\n<polygon fill=\"#000000\" stroke=\"#000000\" points=\"772.9315,-70.9017 762.7178,-68.0856 768.9461,-76.6565 772.9315,-70.9017\"/>\n</g>\n<!-- 17 -->\n<g id=\"node18\" class=\"node\">\n<title>17</title>\n<path fill=\"#f1bb94\" stroke=\"#000000\" d=\"M936,-68C936,-68 813,-68 813,-68 807,-68 801,-62 801,-56 801,-56 801,-12 801,-12 801,-6 807,0 813,0 813,0 936,0 936,0 942,0 948,-6 948,-12 948,-12 948,-56 948,-56 948,-62 942,-68 936,-68\"/>\n<text text-anchor=\"start\" x=\"827.5\" y=\"-52.8\" font-family=\"Helvetica,sans-Serif\" font-size=\"14.00\" fill=\"#000000\">entropy = 1.05</text>\n<text text-anchor=\"start\" x=\"830.5\" y=\"-37.8\" font-family=\"Helvetica,sans-Serif\" font-size=\"14.00\" fill=\"#000000\">samples = 34</text>\n<text text-anchor=\"start\" x=\"809\" y=\"-22.8\" font-family=\"Helvetica,sans-Serif\" font-size=\"14.00\" fill=\"#000000\">value = [23, 0, 1, 10]</text>\n<text text-anchor=\"start\" x=\"829.5\" y=\"-7.8\" font-family=\"Helvetica,sans-Serif\" font-size=\"14.00\" fill=\"#000000\">class = unacc</text>\n</g>\n<!-- 15&#45;&gt;17 -->\n<g id=\"edge17\" class=\"edge\">\n<title>15&#45;&gt;17</title>\n<path fill=\"none\" stroke=\"#000000\" d=\"M874.5,-103.9815C874.5,-95.618 874.5,-86.7965 874.5,-78.3409\"/>\n<polygon fill=\"#000000\" stroke=\"#000000\" points=\"878.0001,-78.2636 874.5,-68.2637 871.0001,-78.2637 878.0001,-78.2636\"/>\n</g>\n<!-- 19 -->\n<g id=\"node20\" class=\"node\">\n<title>19</title>\n<path fill=\"#d6ebfa\" stroke=\"#000000\" d=\"M1101,-68C1101,-68 978,-68 978,-68 972,-68 966,-62 966,-56 966,-56 966,-12 966,-12 966,-6 972,0 978,0 978,0 1101,0 1101,0 1107,0 1113,-6 1113,-12 1113,-12 1113,-56 1113,-56 1113,-62 1107,-68 1101,-68\"/>\n<text text-anchor=\"start\" x=\"992.5\" y=\"-52.8\" font-family=\"Helvetica,sans-Serif\" font-size=\"14.00\" fill=\"#000000\">entropy = 0.99</text>\n<text text-anchor=\"start\" x=\"995.5\" y=\"-37.8\" font-family=\"Helvetica,sans-Serif\" font-size=\"14.00\" fill=\"#000000\">samples = 43</text>\n<text text-anchor=\"start\" x=\"974\" y=\"-22.8\" font-family=\"Helvetica,sans-Serif\" font-size=\"14.00\" fill=\"#000000\">value = [19, 0, 24, 0]</text>\n<text text-anchor=\"start\" x=\"994.5\" y=\"-7.8\" font-family=\"Helvetica,sans-Serif\" font-size=\"14.00\" fill=\"#000000\">class = unacc</text>\n</g>\n<!-- 18&#45;&gt;19 -->\n<g id=\"edge19\" class=\"edge\">\n<title>18&#45;&gt;19</title>\n<path fill=\"none\" stroke=\"#000000\" d=\"M1039.5,-103.9815C1039.5,-95.618 1039.5,-86.7965 1039.5,-78.3409\"/>\n<polygon fill=\"#000000\" stroke=\"#000000\" points=\"1043.0001,-78.2636 1039.5,-68.2637 1036.0001,-78.2637 1043.0001,-78.2636\"/>\n</g>\n<!-- 20 -->\n<g id=\"node21\" class=\"node\">\n<title>20</title>\n<path fill=\"#e58139\" stroke=\"#000000\" d=\"M1258,-68C1258,-68 1143,-68 1143,-68 1137,-68 1131,-62 1131,-56 1131,-56 1131,-12 1131,-12 1131,-6 1137,0 1143,0 1143,0 1258,0 1258,0 1264,0 1270,-6 1270,-12 1270,-12 1270,-56 1270,-56 1270,-62 1264,-68 1258,-68\"/>\n<text text-anchor=\"start\" x=\"1158\" y=\"-52.8\" font-family=\"Helvetica,sans-Serif\" font-size=\"14.00\" fill=\"#000000\">entropy = 0.0</text>\n<text text-anchor=\"start\" x=\"1156.5\" y=\"-37.8\" font-family=\"Helvetica,sans-Serif\" font-size=\"14.00\" fill=\"#000000\">samples = 19</text>\n<text text-anchor=\"start\" x=\"1139\" y=\"-22.8\" font-family=\"Helvetica,sans-Serif\" font-size=\"14.00\" fill=\"#000000\">value = [19, 0, 0, 0]</text>\n<text text-anchor=\"start\" x=\"1155.5\" y=\"-7.8\" font-family=\"Helvetica,sans-Serif\" font-size=\"14.00\" fill=\"#000000\">class = unacc</text>\n</g>\n<!-- 18&#45;&gt;20 -->\n<g id=\"edge20\" class=\"edge\">\n<title>18&#45;&gt;20</title>\n<path fill=\"none\" stroke=\"#000000\" d=\"M1099.4505,-103.9815C1113.5916,-94.1881 1128.6394,-83.7668 1142.6841,-74.0402\"/>\n<polygon fill=\"#000000\" stroke=\"#000000\" points=\"1145.0539,-76.6565 1151.2822,-68.0856 1141.0685,-70.9017 1145.0539,-76.6565\"/>\n</g>\n<!-- 22 -->\n<g id=\"node23\" class=\"node\">\n<title>22</title>\n<path fill=\"#f5cff9\" stroke=\"#000000\" d=\"M1501,-187C1501,-187 1378,-187 1378,-187 1372,-187 1366,-181 1366,-175 1366,-175 1366,-116 1366,-116 1366,-110 1372,-104 1378,-104 1378,-104 1501,-104 1501,-104 1507,-104 1513,-110 1513,-116 1513,-116 1513,-175 1513,-175 1513,-181 1507,-187 1501,-187\"/>\n<text text-anchor=\"start\" x=\"1395.5\" y=\"-171.8\" font-family=\"Helvetica,sans-Serif\" font-size=\"14.00\" fill=\"#000000\">lug_cap ≤ 2.5</text>\n<text text-anchor=\"start\" x=\"1392.5\" y=\"-156.8\" font-family=\"Helvetica,sans-Serif\" font-size=\"14.00\" fill=\"#000000\">entropy = 1.51</text>\n<text text-anchor=\"start\" x=\"1395.5\" y=\"-141.8\" font-family=\"Helvetica,sans-Serif\" font-size=\"14.00\" fill=\"#000000\">samples = 58</text>\n<text text-anchor=\"start\" x=\"1374\" y=\"-126.8\" font-family=\"Helvetica,sans-Serif\" font-size=\"14.00\" fill=\"#000000\">value = [3, 21, 4, 30]</text>\n<text text-anchor=\"start\" x=\"1394.5\" y=\"-111.8\" font-family=\"Helvetica,sans-Serif\" font-size=\"14.00\" fill=\"#000000\">class = unacc</text>\n</g>\n<!-- 21&#45;&gt;22 -->\n<g id=\"edge22\" class=\"edge\">\n<title>21&#45;&gt;22</title>\n<path fill=\"none\" stroke=\"#000000\" d=\"M1439.5,-222.8796C1439.5,-214.6838 1439.5,-205.9891 1439.5,-197.5013\"/>\n<polygon fill=\"#000000\" stroke=\"#000000\" points=\"1443.0001,-197.298 1439.5,-187.2981 1436.0001,-197.2981 1443.0001,-197.298\"/>\n</g>\n<!-- 25 -->\n<g id=\"node26\" class=\"node\">\n<title>25</title>\n<path fill=\"#fae5d6\" stroke=\"#000000\" d=\"M1745,-187C1745,-187 1622,-187 1622,-187 1616,-187 1610,-181 1610,-175 1610,-175 1610,-116 1610,-116 1610,-110 1616,-104 1622,-104 1622,-104 1745,-104 1745,-104 1751,-104 1757,-110 1757,-116 1757,-116 1757,-175 1757,-175 1757,-181 1751,-187 1745,-187\"/>\n<text text-anchor=\"start\" x=\"1639.5\" y=\"-171.8\" font-family=\"Helvetica,sans-Serif\" font-size=\"14.00\" fill=\"#000000\">lug_cap ≤ 2.5</text>\n<text text-anchor=\"start\" x=\"1632.5\" y=\"-156.8\" font-family=\"Helvetica,sans-Serif\" font-size=\"14.00\" fill=\"#000000\">entropy = 1.208</text>\n<text text-anchor=\"start\" x=\"1639.5\" y=\"-141.8\" font-family=\"Helvetica,sans-Serif\" font-size=\"14.00\" fill=\"#000000\">samples = 67</text>\n<text text-anchor=\"start\" x=\"1618\" y=\"-126.8\" font-family=\"Helvetica,sans-Serif\" font-size=\"14.00\" fill=\"#000000\">value = [36, 28, 3, 0]</text>\n<text text-anchor=\"start\" x=\"1638.5\" y=\"-111.8\" font-family=\"Helvetica,sans-Serif\" font-size=\"14.00\" fill=\"#000000\">class = unacc</text>\n</g>\n<!-- 21&#45;&gt;25 -->\n<g id=\"edge25\" class=\"edge\">\n<title>21&#45;&gt;25</title>\n<path fill=\"none\" stroke=\"#000000\" d=\"M1517.0384,-226.6841C1543.7426,-213.6604 1573.7393,-199.0308 1600.8366,-185.8153\"/>\n<polygon fill=\"#000000\" stroke=\"#000000\" points=\"1602.4523,-188.9215 1609.9061,-181.3921 1599.3838,-182.6299 1602.4523,-188.9215\"/>\n</g>\n<!-- 23 -->\n<g id=\"node24\" class=\"node\">\n<title>23</title>\n<path fill=\"#bdf6b8\" stroke=\"#000000\" d=\"M1423,-68C1423,-68 1300,-68 1300,-68 1294,-68 1288,-62 1288,-56 1288,-56 1288,-12 1288,-12 1288,-6 1294,0 1300,0 1300,0 1423,0 1423,0 1429,0 1435,-6 1435,-12 1435,-12 1435,-56 1435,-56 1435,-62 1429,-68 1423,-68\"/>\n<text text-anchor=\"start\" x=\"1310.5\" y=\"-52.8\" font-family=\"Helvetica,sans-Serif\" font-size=\"14.00\" fill=\"#000000\">entropy = 1.618</text>\n<text text-anchor=\"start\" x=\"1317.5\" y=\"-37.8\" font-family=\"Helvetica,sans-Serif\" font-size=\"14.00\" fill=\"#000000\">samples = 39</text>\n<text text-anchor=\"start\" x=\"1296\" y=\"-22.8\" font-family=\"Helvetica,sans-Serif\" font-size=\"14.00\" fill=\"#000000\">value = [3, 21, 4, 11]</text>\n<text text-anchor=\"start\" x=\"1316.5\" y=\"-7.8\" font-family=\"Helvetica,sans-Serif\" font-size=\"14.00\" fill=\"#000000\">class = unacc</text>\n</g>\n<!-- 22&#45;&gt;23 -->\n<g id=\"edge23\" class=\"edge\">\n<title>22&#45;&gt;23</title>\n<path fill=\"none\" stroke=\"#000000\" d=\"M1410.4557,-103.9815C1404.2192,-95.0666 1397.6187,-85.6313 1391.3522,-76.6734\"/>\n<polygon fill=\"#000000\" stroke=\"#000000\" points=\"1394.0693,-74.4515 1385.4692,-68.2637 1388.3335,-78.464 1394.0693,-74.4515\"/>\n</g>\n<!-- 24 -->\n<g id=\"node25\" class=\"node\">\n<title>24</title>\n<path fill=\"#d739e5\" stroke=\"#000000\" d=\"M1580,-68C1580,-68 1465,-68 1465,-68 1459,-68 1453,-62 1453,-56 1453,-56 1453,-12 1453,-12 1453,-6 1459,0 1465,0 1465,0 1580,0 1580,0 1586,0 1592,-6 1592,-12 1592,-12 1592,-56 1592,-56 1592,-62 1586,-68 1580,-68\"/>\n<text text-anchor=\"start\" x=\"1480\" y=\"-52.8\" font-family=\"Helvetica,sans-Serif\" font-size=\"14.00\" fill=\"#000000\">entropy = 0.0</text>\n<text text-anchor=\"start\" x=\"1478.5\" y=\"-37.8\" font-family=\"Helvetica,sans-Serif\" font-size=\"14.00\" fill=\"#000000\">samples = 19</text>\n<text text-anchor=\"start\" x=\"1461\" y=\"-22.8\" font-family=\"Helvetica,sans-Serif\" font-size=\"14.00\" fill=\"#000000\">value = [0, 0, 0, 19]</text>\n<text text-anchor=\"start\" x=\"1477.5\" y=\"-7.8\" font-family=\"Helvetica,sans-Serif\" font-size=\"14.00\" fill=\"#000000\">class = unacc</text>\n</g>\n<!-- 22&#45;&gt;24 -->\n<g id=\"edge24\" class=\"edge\">\n<title>22&#45;&gt;24</title>\n<path fill=\"none\" stroke=\"#000000\" d=\"M1470.4061,-103.9815C1477.1108,-94.9747 1484.2108,-85.4367 1490.9403,-76.3965\"/>\n<polygon fill=\"#000000\" stroke=\"#000000\" points=\"1493.8306,-78.3752 1496.9943,-68.2637 1488.2155,-74.1953 1493.8306,-78.3752\"/>\n</g>\n<!-- 26 -->\n<g id=\"node27\" class=\"node\">\n<title>26</title>\n<path fill=\"#f0b489\" stroke=\"#000000\" d=\"M1745,-68C1745,-68 1622,-68 1622,-68 1616,-68 1610,-62 1610,-56 1610,-56 1610,-12 1610,-12 1610,-6 1616,0 1622,0 1622,0 1745,0 1745,0 1751,0 1757,-6 1757,-12 1757,-12 1757,-56 1757,-56 1757,-62 1751,-68 1745,-68\"/>\n<text text-anchor=\"start\" x=\"1632.5\" y=\"-52.8\" font-family=\"Helvetica,sans-Serif\" font-size=\"14.00\" fill=\"#000000\">entropy = 1.134</text>\n<text text-anchor=\"start\" x=\"1639.5\" y=\"-37.8\" font-family=\"Helvetica,sans-Serif\" font-size=\"14.00\" fill=\"#000000\">samples = 42</text>\n<text text-anchor=\"start\" x=\"1618\" y=\"-22.8\" font-family=\"Helvetica,sans-Serif\" font-size=\"14.00\" fill=\"#000000\">value = [29, 10, 3, 0]</text>\n<text text-anchor=\"start\" x=\"1638.5\" y=\"-7.8\" font-family=\"Helvetica,sans-Serif\" font-size=\"14.00\" fill=\"#000000\">class = unacc</text>\n</g>\n<!-- 25&#45;&gt;26 -->\n<g id=\"edge26\" class=\"edge\">\n<title>25&#45;&gt;26</title>\n<path fill=\"none\" stroke=\"#000000\" d=\"M1683.5,-103.9815C1683.5,-95.618 1683.5,-86.7965 1683.5,-78.3409\"/>\n<polygon fill=\"#000000\" stroke=\"#000000\" points=\"1687.0001,-78.2636 1683.5,-68.2637 1680.0001,-78.2637 1687.0001,-78.2636\"/>\n</g>\n<!-- 27 -->\n<g id=\"node28\" class=\"node\">\n<title>27</title>\n<path fill=\"#8fef86\" stroke=\"#000000\" d=\"M1902,-68C1902,-68 1787,-68 1787,-68 1781,-68 1775,-62 1775,-56 1775,-56 1775,-12 1775,-12 1775,-6 1781,0 1787,0 1787,0 1902,0 1902,0 1908,0 1914,-6 1914,-12 1914,-12 1914,-56 1914,-56 1914,-62 1908,-68 1902,-68\"/>\n<text text-anchor=\"start\" x=\"1793.5\" y=\"-52.8\" font-family=\"Helvetica,sans-Serif\" font-size=\"14.00\" fill=\"#000000\">entropy = 0.855</text>\n<text text-anchor=\"start\" x=\"1800.5\" y=\"-37.8\" font-family=\"Helvetica,sans-Serif\" font-size=\"14.00\" fill=\"#000000\">samples = 25</text>\n<text text-anchor=\"start\" x=\"1783\" y=\"-22.8\" font-family=\"Helvetica,sans-Serif\" font-size=\"14.00\" fill=\"#000000\">value = [7, 18, 0, 0]</text>\n<text text-anchor=\"start\" x=\"1799.5\" y=\"-7.8\" font-family=\"Helvetica,sans-Serif\" font-size=\"14.00\" fill=\"#000000\">class = unacc</text>\n</g>\n<!-- 25&#45;&gt;27 -->\n<g id=\"edge27\" class=\"edge\">\n<title>25&#45;&gt;27</title>\n<path fill=\"none\" stroke=\"#000000\" d=\"M1743.4505,-103.9815C1757.5916,-94.1881 1772.6394,-83.7668 1786.6841,-74.0402\"/>\n<polygon fill=\"#000000\" stroke=\"#000000\" points=\"1789.0539,-76.6565 1795.2822,-68.0856 1785.0685,-70.9017 1789.0539,-76.6565\"/>\n</g>\n</g>\n</svg>\n"
          },
          "metadata": {},
          "execution_count": 83
        }
      ]
    },
    {
      "cell_type": "code",
      "source": [
        "print(classification_report(y_test, y_pred_entropy))"
      ],
      "metadata": {
        "colab": {
          "base_uri": "https://localhost:8080/"
        },
        "id": "AFBIm51HJMtd",
        "outputId": "b2fcdf11-589a-41ae-d29b-af827d954e91"
      },
      "execution_count": 84,
      "outputs": [
        {
          "output_type": "stream",
          "name": "stdout",
          "text": [
            "              precision    recall  f1-score   support\n",
            "\n",
            "         acc       0.87      0.71      0.78       129\n",
            "        good       0.47      0.75      0.58        20\n",
            "       unacc       0.93      0.98      0.96       397\n",
            "       vgood       1.00      0.52      0.68        25\n",
            "\n",
            "    accuracy                           0.89       571\n",
            "   macro avg       0.82      0.74      0.75       571\n",
            "weighted avg       0.90      0.89      0.89       571\n",
            "\n"
          ]
        }
      ]
    }
  ]
}